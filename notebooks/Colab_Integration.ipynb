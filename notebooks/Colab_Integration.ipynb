{
 "cells": [
  {
   "cell_type": "markdown",
   "metadata": {},
   "source": [
    "# Fraud Detection ML - Google Colab Integration\n",
    "\n",
    "This notebook provides integration between your local fraud detection project and Google Colab's GPU resources. It allows you to:\n",
    "\n",
    "1. Clone your GitHub repository (if you have one)\n",
    "2. Upload your local data files\n",
    "3. Install required dependencies\n",
    "4. Run training and evaluation with Colab's GPU\n",
    "5. Download results back to your local machine\n",
    "\n",
    "**Note**: Make sure to save this notebook to your Google Drive and open it with Google Colab."
   ]
  },
  {
   "cell_type": "markdown",
   "metadata": {},
   "source": [
    "## 1. Check GPU Availability\n",
    "\n",
    "First, let's check if we have access to a GPU in this Colab session."
   ]
  },
  {
   "cell_type": "code",
   "execution_count": null,
   "metadata": {},
   "outputs": [],
   "source": [
    "# Check if GPU is available\n",
    "!nvidia-smi\n",
    "\n",
    "# Check TensorFlow GPU access\n",
    "import tensorflow as tf\n",
    "print(\"TensorFlow version:\", tf.__version__)\n",
    "print(\"GPU Available: \", tf.config.list_physical_devices('GPU'))"
   ]
  },
  {
   "cell_type": "markdown",
   "metadata": {},
   "source": [
    "## 2. Setup Project Repository\n",
    "\n",
    "You can either clone your project from GitHub (if it's in a repository) or upload your files directly."
   ]
  },
  {
   "cell_type": "markdown",
   "metadata": {},
   "source": [
    "### Option 1: Clone from GitHub (if available)"
   ]
  },
  {
   "cell_type": "code",
   "execution_count": null,
   "metadata": {},
   "outputs": [],
   "source": [
    "# Uncomment and modify if your project is in a GitHub repository\n",
    "# !git clone https://github.com/your-username/fraud-detection-ml.git\n",
    "# %cd fraud-detection-ml"
   ]
  },
  {
   "cell_type": "markdown",
   "metadata": {},
   "source": [
    "### Option 2: Upload Files Directly\n",
    "\n",
    "If your project is not in a GitHub repository, you can upload your files directly."
   ]
  },
  {
   "cell_type": "code",
   "execution_count": null,
   "metadata": {},
   "outputs": [],
   "source": [
    "# Create project directory\n",
    "!mkdir -p fraud-detection-ml\n",
    "%cd fraud-detection-ml"
   ]
  },
  {
   "cell_type": "code",
   "execution_count": null,
   "metadata": {},
   "outputs": [],
   "source": [
    "# Mount Google Drive to access uploaded files\n",
    "from google.colab import drive\n",
    "drive.mount('/content/drive')"
   ]
  },
  {
   "cell_type": "markdown",
   "metadata": {},
   "source": [
    "You can now upload your project files to Google Drive and access them here. Alternatively, you can use the file upload widget below to upload key files directly to this Colab session."
   ]
  },
  {
   "cell_type": "code",
   "execution_count": null,
   "metadata": {},
   "outputs": [],
   "source": [
    "# File upload widget for direct uploads\n",
    "from google.colab import files\n",
    "\n",
    "# Create necessary directories\n",
    "!mkdir -p src/models src/utils src/spark_jobs data/raw data/processed results/models\n",
    "\n",
    "print(\"Upload your project files using the widget that appears below.\")\n",
    "print(\"You'll need to upload key files like:\")\n",
    "print(\"- config.yaml\")\n",
    "print(\"- src/models/train_model.py\")\n",
    "print(\"- src/models/evaluate_model.py\")\n",
    "print(\"- src/utils/*.py\")\n",
    "print(\"- data files\")\n",
    "\n",
    "uploaded = files.upload()\n",
    "\n",
    "# Move uploaded files to appropriate directories\n",
    "import os\n",
    "for filename in uploaded.keys():\n",
    "    if filename.endswith('.py'):\n",
    "        if 'models' in filename:\n",
    "            !mv {filename} src/models/\n",
    "        elif 'utils' in filename:\n",
    "            !mv {filename} src/utils/\n",
    "        elif 'spark_jobs' in filename:\n",
    "            !mv {filename} src/spark_jobs/\n",
    "        else:\n",
    "            !mv {filename} src/\n",
    "    elif filename.endswith('.csv') or filename.endswith('.parquet'):\n",
    "        !mv {filename} data/raw/\n",
    "    elif filename.endswith('.yaml') or filename.endswith('.yml'):\n",
    "        !mv {filename} ./\n",
    "    else:\n",
    "        print(f\"Keeping {filename} in the current directory\")"
   ]
  },
  {
   "cell_type": "markdown",
   "metadata": {},
   "source": [
    "## 3. Install Dependencies\n",
    "\n",
    "Let's install the required packages for our project."
   ]
  },
  {
   "cell_type": "code",
   "execution_count": null,
   "metadata": {},
   "outputs": [],
   "source": [
    "# Upload requirements.txt file if not already uploaded\n",
    "try:\n",
    "    with open('requirements.txt', 'r') as f:\n",
    "        print(\"requirements.txt already exists\")\n",
    "except FileNotFoundError:\n",
    "    print(\"Please upload requirements.txt file\")\n",
    "    uploaded = files.upload()"
   ]
  },
  {
   "cell_type": "code",
   "execution_count": null,
   "metadata": {},
   "outputs": [],
   "source": [
    "# Install dependencies\n",
    "%pip install -r requirements.txt\n",
    "\n",
    "# Install additional dependencies for Colab compatibility\n",
    "%pip install pyspark==3.3.0 pyarrow==10.0.1 fastparquet==0.8.3"
   ]
  },
  {
   "cell_type": "markdown",
   "metadata": {},
   "source": [
    "## 4. Data Processing\n",
    "\n",
    "Now let's process the data using your project's data processing script."
   ]
  },
  {
   "cell_type": "code",
   "execution_count": null,
   "metadata": {},
   "outputs": [],
   "source": [
    "# List available data files\n",
    "!ls -la data/raw/"
   ]
  },
  {
   "cell_type": "code",
   "execution_count": null,
   "metadata": {},
   "outputs": [],
   "source": [
    "# Process data using your load_data.py script\n",
    "# Modify the paths as needed\n",
    "!python src/spark_jobs/load_data.py --input data/raw/financial_fraud_detection_dataset.csv --output data/processed/transactions.parquet"
   ]
  },
  {
   "cell_type": "markdown",
   "metadata": {},
   "source": [
    "## 5. Model Training with GPU\n",
    "\n",
    "Now we'll train the models using Colab's GPU."
   ]
  },
  {
   "cell_type": "code",
   "execution_count": null,
   "metadata": {},
   "outputs": [],
   "source": [
    "# Set up MLflow tracking\n",
    "import os\n",
    "import yaml\n",
    "\n",
    "# Load config\n",
    "try:\n",
    "    with open('config.yaml', 'r') as file:\n",
    "        config = yaml.safe_load(file)\n",
    "    print(\"Config loaded successfully\")\n",
    "except Exception as e:\n",
    "    print(f\"Error loading config: {str(e)}\")\n",
    "    config = {\n",
    "        'mlflow': {'experiment_name': 'Fraud_Detection_Experiment'},\n",
    "        'models': {'output_dir': 'results/models'},\n",
    "        'data': {'processed_path': 'data/processed/transactions.parquet'}\n",
    "    }"
   ]
  },
  {
   "cell_type": "code",
   "execution_count": null,
   "metadata": {},
   "outputs": [],
   "source": [
    "# Train classification model\n",
    "!python src/models/train_model.py \\\n",
    "    --data-path {config['data']['processed_path']} \\\n",
    "    --model-type classification \\\n",
    "    --experiment-name {config['mlflow']['experiment_name']} \\\n",
    "    --model-dir {config['models']['output_dir']}"
   ]
  },
  {
   "cell_type": "code",
   "execution_count": null,
   "metadata": {},
   "outputs": [],
   "source": [
    "# Train autoencoder model\n",
    "!python src/models/train_model.py \\\n",
    "    --data-path {config['data']['processed_path']} \\\n",
    "    --model-type autoencoder \\\n",
    "    --experiment-name {config['mlflow']['experiment_name']} \\\n",
    "    --model-dir {config['models']['output_dir']}"
   ]
  },
  {
   "cell_type": "markdown",
   "metadata": {},
   "source": [
    "## 6. Model Evaluation\n",
    "\n",
    "Let's evaluate the trained models."
   ]
  },
  {
   "cell_type": "code",
   "execution_count": null,
   "metadata": {},
   "outputs": [],
   "source": [
    "# Evaluate classification model\n",
    "!python src/models/evaluate_model.py \\\n",
    "    --model-path {config['models']['output_dir']}/classification_model.h5 \\\n",
    "    --test-data {config['data']['processed_path']} \\\n",
    "    --model-type classification \\\n",
    "    --output-dir results"
   ]
  },
  {
   "cell_type": "code",
   "execution_count": null,
   "metadata": {},
   "outputs": [],
   "source": [
    "# Evaluate autoencoder model\n",
    "!python src/models/evaluate_model.py \\\n",
    "    --model-path {config['models']['output_dir']}/autoencoder_model.h5 \\\n",
    "    --test-data {config['data']['processed_path']} \\\n",
    "    --model-type autoencoder \\\n",
    "    --output-dir results \\\n",
    "    --percentile 95"
   ]
  },
  {
   "cell_type": "markdown",
   "metadata": {},
   "source": [
    "## 7. Download Results\n",
    "\n",
    "Finally, let's download the trained models and evaluation results."
   ]
  },
  {
   "cell_type": "code",
   "execution_count": null,
   "metadata": {},
   "outputs": [],
   "source": [
    "# Compress results for download\n",
    "!zip -r fraud_detection_results.zip results/ {config['models']['output_dir']}/"
   ]
  },
  {
   "cell_type": "code",
   "execution_count": null,
   "metadata": {},
   "outputs": [],
   "source": [
    "# Download the results\n",
    "from google.colab import files\n",
    "files.download('fraud_detection_results.zip')"
   ]
  },
  {
   "cell_type": "markdown",
   "metadata": {},
   "source": [
    "## 8. Save Trained Models to Google Drive (Optional)\n",
    "\n",
    "If you want to save your trained models to Google Drive for future use:"
   ]
  },
  {
   "cell_type": "code",
   "execution_count": null,
   "metadata": {},
   "outputs": [],
   "source": [
    "# Create a directory in Google Drive to save models\n",
    "!mkdir -p /content/drive/MyDrive/fraud_detection_models\n",
    "\n",
    "# Copy models to Google Drive\n",
    "!cp -r {config['models']['output_dir']}/* /content/drive/MyDrive/fraud_detection_models/\n",
    "!cp -r results/* /content/drive/MyDrive/fraud_detection_models/\n",
    "\n",
    "print(\"Models and results saved to Google Drive at: /content/drive/MyDrive/fraud_detection_models/\")"
   ]
  }
 ],
 "metadata": {
  "accelerator": "GPU",
  "colab": {
   "collapsed_sections": [],
   "name": "Fraud Detection ML - Colab Integration",
   "provenance": []
  },
  "kernelspec": {
   "display_name": "Python 3",
   "language": "python",
   "name": "python3"
  },
  "language_info": {
   "codemirror_mode": {
    "name": "ipython",
    "version": 3
   },
   "file_extension": ".py",
   "mimetype": "text/x-python",
   "name": "python",
   "nbconvert_exporter": "python",
   "pygments_lexer": "ipython3",
   "version": "3.8.10"
  }
 },
 "nbformat": 4,
 "nbformat_minor": 4
}
